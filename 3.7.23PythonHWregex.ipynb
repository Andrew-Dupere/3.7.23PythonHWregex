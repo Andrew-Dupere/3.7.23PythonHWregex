{
 "cells": [
  {
   "cell_type": "markdown",
   "id": "ec62008b",
   "metadata": {},
   "source": [
    "Regex project\n",
    "Use python to read the file regex_test.txt and print the last name on each line using regular expressions and groups (return None for names with no first and last name, or names that aren't properly capitalized)\n",
    "\n",
    "Hint: use with open() and readlines()"
   ]
  },
  {
   "cell_type": "markdown",
   "id": "587951c1",
   "metadata": {},
   "source": [
    "\"\"\"\n",
    "Expected Output\n",
    "Abraham Lincoln\n",
    "Andrew P Garfield\n",
    "Connor Milliken\n",
    "Jordan Alexander Williams\n",
    "None\n",
    "None\n",
    "\"\"\""
   ]
  },
  {
   "cell_type": "code",
   "execution_count": 2,
   "id": "8b0ae493",
   "metadata": {},
   "outputs": [],
   "source": [
    "import re"
   ]
  },
  {
   "cell_type": "code",
   "execution_count": 9,
   "id": "9afcb632",
   "metadata": {},
   "outputs": [],
   "source": [
    "namespattern = re.compile(('(?P<names>[A-Z]\\w+ [A-Z] ?\\S+ ?\\S+)'))"
   ]
  },
  {
   "cell_type": "code",
   "execution_count": 11,
   "id": "67bbed2b",
   "metadata": {},
   "outputs": [
    {
     "name": "stdout",
     "output_type": "stream",
     "text": [
      "Abraham Lincoln\n",
      "Andrew P Garfield\n",
      "Connor Milliken\n",
      "Jordan Alexander Williams\n"
     ]
    }
   ],
   "source": [
    "with open('regex_test.txt',encoding='utf-8-sig') as file:\n",
    "    data = file.read()\n",
    "    \n",
    "    for name in namespattern.finditer(data):\n",
    "        if name.group('names'):\n",
    "            print(f\"{name.group('names')}\")\n",
    "        else:\n",
    "            print(None)"
   ]
  },
  {
   "cell_type": "code",
   "execution_count": null,
   "id": "40932fc5",
   "metadata": {},
   "outputs": [],
   "source": []
  }
 ],
 "metadata": {
  "kernelspec": {
   "display_name": "Python 3 (ipykernel)",
   "language": "python",
   "name": "python3"
  },
  "language_info": {
   "codemirror_mode": {
    "name": "ipython",
    "version": 3
   },
   "file_extension": ".py",
   "mimetype": "text/x-python",
   "name": "python",
   "nbconvert_exporter": "python",
   "pygments_lexer": "ipython3",
   "version": "3.9.13"
  }
 },
 "nbformat": 4,
 "nbformat_minor": 5
}
